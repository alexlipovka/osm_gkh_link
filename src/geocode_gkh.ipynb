{
 "cells": [
  {
   "cell_type": "code",
   "execution_count": null,
   "metadata": {},
   "outputs": [],
   "source": [
    "import pandas as pd"
   ]
  },
  {
   "cell_type": "code",
   "execution_count": null,
   "metadata": {},
   "outputs": [],
   "source": [
    "zelenogorsk = pd.read_csv('../data/gkh_clear_Zelenogorsk.csv', encoding='utf-8', sep=',')\n",
    "kansk = pd.read_csv('../data/gkh_clear_Kansk.csv', encoding='utf-8', sep=',')\n",
    "achinsk = pd.read_csv('../data/gkh_clear_Achinsk.csv', encoding='utf-8', sep=',')"
   ]
  },
  {
   "cell_type": "code",
   "execution_count": null,
   "metadata": {},
   "outputs": [],
   "source": [
    "# Используем две библиотеки для геокодирования:\n",
    "# 1 - геокодеры из проекта geopy\n",
    "from geopy.geocoders import Nominatim, Yandex\n",
    "# 2 - стандартная библиотека веб-запросов (для работы с geocode.xyz)\n",
    "import requests\n",
    "\n",
    "# И еще парочку:\n",
    "# - для ограничения скорости запросов\n",
    "from geopy.extra.rate_limiter import RateLimiter\n",
    "# - для визуализации процесса\n",
    "from tqdm import tqdm"
   ]
  },
  {
   "cell_type": "code",
   "execution_count": null,
   "metadata": {},
   "outputs": [],
   "source": [
    "import yaml\n",
    "\n",
    "with open(\"../api_keys/geocoding_api.yml\", \"r\") as f:\n",
    "    api_keys = yaml.safe_load(f)"
   ]
  },
  {
   "cell_type": "code",
   "execution_count": null,
   "metadata": {},
   "outputs": [],
   "source": [
    "geolocator_osm = Nominatim(user_agent=\"py\")\n",
    "geolocator_ya = Yandex(user_agent = \"py\", api_key = api_keys.get(\"yandex_geocoding_api\").get(\"api_key\"))\n",
    "geocode_osm = RateLimiter(geolocator_osm.geocode, min_delay_seconds=1)\n",
    "geocode_ya = RateLimiter(geolocator_ya.geocode, min_delay_seconds=1)"
   ]
  },
  {
   "cell_type": "code",
   "execution_count": null,
   "metadata": {},
   "outputs": [],
   "source": [
    "zelenogorsk['addr_osm'] = ''\n",
    "zelenogorsk['lon_osm'] = ''\n",
    "zelenogorsk['lat_osm'] = ''\n",
    "zelenogorsk['addr_ya'] = ''\n",
    "zelenogorsk['lon_ya'] = ''\n",
    "zelenogorsk['lat_ya'] = ''"
   ]
  },
  {
   "cell_type": "code",
   "execution_count": null,
   "metadata": {},
   "outputs": [],
   "source": [
    "kansk['addr_osm'] = ''\n",
    "kansk['lon_osm'] = ''\n",
    "kansk['lat_osm'] = ''\n",
    "kansk['addr_ya'] = ''\n",
    "kansk['lon_ya'] = ''\n",
    "kansk['lat_ya'] = ''"
   ]
  },
  {
   "cell_type": "code",
   "execution_count": null,
   "metadata": {},
   "outputs": [],
   "source": [
    "achinsk['addr_osm'] = ''\n",
    "achinsk['lon_osm'] = ''\n",
    "achinsk['lat_osm'] = ''\n",
    "achinsk['addr_ya'] = ''\n",
    "achinsk['lon_ya'] = ''\n",
    "achinsk['lat_ya'] = ''"
   ]
  },
  {
   "cell_type": "code",
   "execution_count": null,
   "metadata": {},
   "outputs": [],
   "source": [
    "task = achinsk\n",
    "for index, row in task.iterrows():\n",
    "    location_osm = geocode_osm(str.replace(row['formalname_city'] + ', ' + str(row['formalname_street']) + ', ' + str(row['house_number']) + str(row['building']) + str(row['block']) + str(row['letter']), 'nan', ''))\n",
    "    print(str.replace(row['formalname_city'] + ', ' + str(row['formalname_street']) + ', ' + str(row['house_number']) + str(row['building']) + str(row['block']) + str(row['letter']), 'nan', ''))\n",
    "    print('osm: ' + str(location_osm))\n",
    "    # location_ya = geocode_ya(row['address'])\n",
    "    # print('ya: ' + str(location_ya))\n",
    "    if location_osm:\n",
    "        task.loc[index, 'addr_osm'] = location_osm.address\n",
    "        task.loc[index, 'lon_osm'] = location_osm.longitude\n",
    "        task.loc[index, 'lat_osm'] = location_osm.latitude\n",
    "        # print(location_osm.address)\n",
    "        # print(str(location_osm.longitude) + ' ' + str(location_osm.latitude))\n",
    "    if location_ya:\n",
    "        task.loc[index, 'addr_ya'] = location_ya.address\n",
    "        task.loc[index, 'lon_ya'] = location_ya.longitude\n",
    "        task.loc[index, 'lat_ya'] = location_ya.latitude\n",
    "        # print(location_ya.address)\n",
    "        # print(str(location_ya.longitude) + ' ' + str(location_ya.latitude))\n",
    "\n",
    "task.to_csv('../data/geocoded_achinsk.csv')"
   ]
  },
  {
   "cell_type": "code",
   "execution_count": null,
   "metadata": {},
   "outputs": [],
   "source": []
  }
 ],
 "metadata": {
  "kernelspec": {
   "display_name": "Python 3.8.13 ('gis')",
   "language": "python",
   "name": "python3"
  },
  "language_info": {
   "codemirror_mode": {
    "name": "ipython",
    "version": 3
   },
   "file_extension": ".py",
   "mimetype": "text/x-python",
   "name": "python",
   "nbconvert_exporter": "python",
   "pygments_lexer": "ipython3",
   "version": "3.8.13"
  },
  "orig_nbformat": 4,
  "vscode": {
   "interpreter": {
    "hash": "a8a1c7265d11ab4980762e7f6128c05f44ddfd74c678b352246f3ee07ae421b7"
   }
  }
 },
 "nbformat": 4,
 "nbformat_minor": 2
}
