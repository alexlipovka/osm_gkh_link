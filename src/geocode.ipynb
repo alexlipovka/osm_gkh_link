{
 "cells": [
  {
   "cell_type": "code",
   "execution_count": null,
   "metadata": {},
   "outputs": [],
   "source": [
    "import pandas as pd\n",
    "import geopandas as gpd"
   ]
  },
  {
   "cell_type": "code",
   "execution_count": null,
   "metadata": {},
   "outputs": [],
   "source": [
    "# Используем две библиотеки:\n",
    "# 1 - геокодеры из проекта geopy\n",
    "from geopy.geocoders import Nominatim, Yandex\n",
    "# 2 - стандартная библиотека веб-запросов (для работы с geocode.xyz)\n",
    "import requests\n",
    "\n",
    "from geopy.extra.rate_limiter import RateLimiter\n",
    "from tqdm.notebook import tqdm"
   ]
  },
  {
   "cell_type": "code",
   "execution_count": null,
   "metadata": {},
   "outputs": [],
   "source": [
    "import yaml\n",
    "\n",
    "with open(\"../api_keys/geocoding_api.yml\", \"r\") as f:\n",
    "    api_keys = yaml.safe_load(f)"
   ]
  },
  {
   "cell_type": "code",
   "execution_count": null,
   "metadata": {},
   "outputs": [],
   "source": [
    "geolocator_osm = Nominatim(user_agent=\"py\")\n",
    "geolocator_ya = Yandex(user_agent = \"py\", api_key = api_keys.get(\"yandex_geocoding_api\").get(\"api_key\"))"
   ]
  },
  {
   "cell_type": "code",
   "execution_count": null,
   "metadata": {},
   "outputs": [],
   "source": [
    "geocode_osm = RateLimiter(geolocator_osm.geocode, min_delay_seconds=1)\n",
    "geocode_ya = RateLimiter(geolocator_ya.geocode, min_delay_seconds=1)"
   ]
  },
  {
   "cell_type": "code",
   "execution_count": null,
   "metadata": {},
   "outputs": [],
   "source": []
  },
  {
   "cell_type": "code",
   "execution_count": null,
   "metadata": {},
   "outputs": [],
   "source": [
    "location_osm = geocode_osm(\"Зеленогорск, Гоголя, 4а\")\n",
    "location_ya = geolocator_ya.geocode(\"край. Красноярский, г. Зеленогорск, ул. Гоголя, д. 4 а\")"
   ]
  },
  {
   "cell_type": "code",
   "execution_count": null,
   "metadata": {},
   "outputs": [],
   "source": [
    "print(location_osm.address)\n",
    "print(str(location_osm.longitude) + ' ' + str(location_osm.latitude))\n",
    "# print(location.point)"
   ]
  },
  {
   "cell_type": "code",
   "execution_count": null,
   "metadata": {},
   "outputs": [],
   "source": [
    "print(location_ya.address)\n",
    "print(str(location_ya.longitude) + ' ' + str(location_ya.latitude))"
   ]
  },
  {
   "cell_type": "code",
   "execution_count": null,
   "metadata": {},
   "outputs": [],
   "source": [
    "geocode_xyz = RateLimiter(requests.get, min_delay_seconds=1)\n",
    "location_xyz = geocode_xyz('https://geocode.xyz/Канск, 1-й Военный, 1?json=1&auth=' + api_keys.get(\"geocode_xyz\").get(\"api_key\"))\n",
    "location_xyz.json()"
   ]
  },
  {
   "cell_type": "code",
   "execution_count": null,
   "metadata": {},
   "outputs": [],
   "source": [
    "print(location_xyz.json()['longt'])\n",
    "print(location_xyz.json()['latt'])"
   ]
  },
  {
   "cell_type": "code",
   "execution_count": null,
   "metadata": {},
   "outputs": [],
   "source": []
  }
 ],
 "metadata": {
  "kernelspec": {
   "display_name": "Python 3.8.13 ('gis')",
   "language": "python",
   "name": "python3"
  },
  "language_info": {
   "codemirror_mode": {
    "name": "ipython",
    "version": 3
   },
   "file_extension": ".py",
   "mimetype": "text/x-python",
   "name": "python",
   "nbconvert_exporter": "python",
   "pygments_lexer": "ipython3",
   "version": "3.8.13"
  },
  "orig_nbformat": 4,
  "vscode": {
   "interpreter": {
    "hash": "a8a1c7265d11ab4980762e7f6128c05f44ddfd74c678b352246f3ee07ae421b7"
   }
  }
 },
 "nbformat": 4,
 "nbformat_minor": 2
}
