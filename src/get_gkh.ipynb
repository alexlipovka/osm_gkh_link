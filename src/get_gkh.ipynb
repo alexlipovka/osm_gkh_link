{
 "cells": [
  {
   "attachments": {},
   "cell_type": "markdown",
   "metadata": {},
   "source": [
    "# Загружаем таблицу с проекта РеформаЖКХ"
   ]
  },
  {
   "cell_type": "code",
   "execution_count": 1,
   "metadata": {},
   "outputs": [],
   "source": [
    "import pandas as pd"
   ]
  },
  {
   "cell_type": "code",
   "execution_count": 11,
   "metadata": {},
   "outputs": [],
   "source": [
    "# https://xn--80aq1a.xn--p1aee.xn--p1ai/opendata?gid=2211647&cids=house_management&page=1&pageSize=12\n",
    "#https://аис.фрт.рф/opendata/export/155\n",
    "url = {\n",
    "        'krasnoyarsk_building' : 'https://xn--80aq1a.xn--p1aee.xn--p1ai/opendata/export/155',\n",
    "        'krasnoyarsk_uo' : 'https://xn--80aq1a.xn--p1aee.xn--p1ai/opendata/export/70'\n",
    "        }\n",
    "storage_options = {'User-Agent': 'Mozilla/5.0 (Windows NT 10.0; Win64; x64) AppleWebKit/537.36 (KHTML, like Gecko) Chrome/117.0.0.0 Safari/537.36'}"
   ]
  },
  {
   "cell_type": "code",
   "execution_count": 12,
   "metadata": {},
   "outputs": [],
   "source": [
    "\n",
    "building_gkh = pd.read_csv(url['krasnoyarsk_building'], storage_options=storage_options, encoding='utf-8', sep=';', compression='zip', engine='python')\n",
    "uo_gkh = pd.read_csv(url['krasnoyarsk_uo'], storage_options=storage_options, encoding='utf-8', sep=';', compression='zip', engine='python')"
   ]
  },
  {
   "cell_type": "code",
   "execution_count": null,
   "metadata": {},
   "outputs": [],
   "source": [
    "building_gkh = pd.read_csv('../data/export-reestrmkd-24-20230701.zip', encoding='utf-8', sep=';', compression='zip')\n",
    "uo_gkh = pd.read_csv('../data/export-reestruo-24-20230701.zip', encoding='utf-8', sep=';', compression='zip')"
   ]
  },
  {
   "attachments": {},
   "cell_type": "markdown",
   "metadata": {},
   "source": [
    "## Выделяем таблицы для отдельных городов"
   ]
  },
  {
   "cell_type": "code",
   "execution_count": 13,
   "metadata": {},
   "outputs": [],
   "source": [
    "kras_building_gkh = building_gkh[building_gkh.formalname_city == 'Красноярск']\n",
    "achinsk_building_gkh = building_gkh[building_gkh.formalname_city == 'Ачинск']\n",
    "kansk_building_gkh = building_gkh[building_gkh.formalname_city == 'Канск']\n",
    "zelenogorsk_building_gkh = building_gkh[building_gkh.formalname_city == 'Зеленогорск']\n",
    "cities = {\n",
    "    'Krasnoyarsk' : kras_building_gkh,\n",
    "    'Achinsk' : achinsk_building_gkh,\n",
    "    'Kansk' : kansk_building_gkh,\n",
    "    'Zelenogorsk' : zelenogorsk_building_gkh\n",
    "}"
   ]
  },
  {
   "cell_type": "code",
   "execution_count": 14,
   "metadata": {},
   "outputs": [],
   "source": [
    "for city in cities:\n",
    "    cities[city].to_csv('../data/gkh_base_' + city + '.csv')\n",
    "    dup = pd.DataFrame(cities[city].duplicated(keep=False, subset=['houseguid']), columns=['dup'])\n",
    "    dup.reset_index(inplace=True)\n",
    "    cities[city].reset_index(inplace=True)\n",
    "    dup_city_dup = cities[city].merge(dup, how='left', left_on='index', right_on='index')\n",
    "    dup_city_dup[dup_city_dup.dup == True].sort_values(by=['houseguid','id'], ascending=[True, True]).to_csv('../data/gkh_duplicates_' + city + '.csv')"
   ]
  },
  {
   "attachments": {},
   "cell_type": "markdown",
   "metadata": {},
   "source": [
    "## Удаляем дубликаты по маске\n",
    "\n",
    "Предварительно надо вручную открыть файл duplicates, добавить столбец `delete` и вписать значения `True` либо `False` - удалить, либо оставить запись."
   ]
  },
  {
   "cell_type": "code",
   "execution_count": 15,
   "metadata": {},
   "outputs": [],
   "source": [
    "duplicates_Krasnoyarsk = pd.read_csv('../data/gkh_duplicates_Krasnoyarsk_delete_mask.csv', encoding='utf-8', sep='\\t')\n",
    "\n",
    "gkh_clear_Krasnoyarsk = kras_building_gkh.merge(duplicates_Krasnoyarsk[['id','delete']], how='left', left_on='id', right_on='id')\n",
    "gkh_clear_Krasnoyarsk.fillna(value={'delete':False}, inplace=True)\n",
    "gkh_clear_Krasnoyarsk = gkh_clear_Krasnoyarsk[gkh_clear_Krasnoyarsk.delete == False]\n",
    "gkh_clear_Krasnoyarsk.drop(columns='delete', inplace=True)\n",
    "gkh_clear_Krasnoyarsk.to_csv('../data/gkh_clear_Krasnoyarsk.csv')"
   ]
  },
  {
   "cell_type": "code",
   "execution_count": 16,
   "metadata": {},
   "outputs": [],
   "source": [
    "duplicates_achinsk = pd.read_csv('../data/gkh_duplicates_Achinsk_delete_mask.csv', encoding='utf-8', sep=',')\n",
    "\n",
    "gkh_clear_Achinsk = achinsk_building_gkh.merge(duplicates_achinsk[['id','delete']], how='left', left_on='id', right_on='id')\n",
    "gkh_clear_Achinsk.fillna(value={'delete':False}, inplace=True)\n",
    "gkh_clear_Achinsk = gkh_clear_Achinsk[gkh_clear_Achinsk.delete == False]\n",
    "gkh_clear_Achinsk.drop(columns='delete', inplace=True)\n",
    "gkh_clear_Achinsk.to_csv('../data/gkh_clear_Achinsk.csv')"
   ]
  },
  {
   "cell_type": "code",
   "execution_count": 17,
   "metadata": {},
   "outputs": [],
   "source": [
    "duplicates_kansk = pd.read_csv('../data/gkh_duplicates_Achinsk_delete_mask.csv', encoding='utf-8', sep=',')\n",
    "\n",
    "gkh_clear_Kansk = kansk_building_gkh.merge(duplicates_kansk[['id','delete']], how='left', left_on='id', right_on='id')\n",
    "gkh_clear_Kansk.fillna(value={'delete':False}, inplace=True)\n",
    "gkh_clear_Kansk = gkh_clear_Kansk[gkh_clear_Kansk.delete == False]\n",
    "gkh_clear_Kansk.drop(columns='delete', inplace=True)\n",
    "gkh_clear_Kansk.to_csv('../data/gkh_clear_Kansk.csv')"
   ]
  },
  {
   "cell_type": "code",
   "execution_count": 18,
   "metadata": {},
   "outputs": [],
   "source": [
    "duplicates_zelenogorsk = pd.read_csv('../data/gkh_duplicates_Zelenogorsk_delete_mask.csv', encoding='utf-8', sep=',')\n",
    "\n",
    "gkh_clear_Zelenogorsk =zelenogorsk_building_gkh.merge(duplicates_zelenogorsk[['id','delete']], how='left', left_on='id', right_on='id')\n",
    "gkh_clear_Zelenogorsk.fillna(value={'delete':False}, inplace=True)\n",
    "gkh_clear_Zelenogorsk = gkh_clear_Zelenogorsk[gkh_clear_Zelenogorsk.delete == False]\n",
    "gkh_clear_Zelenogorsk.drop(columns='delete', inplace=True)\n",
    "gkh_clear_Zelenogorsk.to_csv('../data/gkh_clear_Zelenogorsk.csv')"
   ]
  },
  {
   "attachments": {},
   "cell_type": "markdown",
   "metadata": {},
   "source": [
    "# Сравниваем с ранее геокодированными записями"
   ]
  },
  {
   "cell_type": "code",
   "execution_count": 26,
   "metadata": {},
   "outputs": [],
   "source": [
    "geocoded_building_gkh = pd.read_csv('../data/geocoded_zelenogorsk.csv', encoding='utf-8', sep=',')\n",
    "clear_building_gkh = pd.read_csv('../data/gkh_clear_Zelenogorsk.csv', encoding='utf-8', sep=',')"
   ]
  },
  {
   "cell_type": "code",
   "execution_count": 27,
   "metadata": {},
   "outputs": [],
   "source": [
    "merged_building_gkh = clear_building_gkh.merge(geocoded_building_gkh[['id', 'houseguid', 'lon_ya', 'lat_ya', 'addr_ya']], how='left', left_on='houseguid', right_on='houseguid')\n",
    "merged_building_gkh.to_csv('../data/merged_zelenogorsk.csv')"
   ]
  },
  {
   "cell_type": "code",
   "execution_count": 28,
   "metadata": {},
   "outputs": [
    {
     "data": {
      "text/html": [
       "<div>\n",
       "<style scoped>\n",
       "    .dataframe tbody tr th:only-of-type {\n",
       "        vertical-align: middle;\n",
       "    }\n",
       "\n",
       "    .dataframe tbody tr th {\n",
       "        vertical-align: top;\n",
       "    }\n",
       "\n",
       "    .dataframe thead th {\n",
       "        text-align: right;\n",
       "    }\n",
       "</style>\n",
       "<table border=\"1\" class=\"dataframe\">\n",
       "  <thead>\n",
       "    <tr style=\"text-align: right;\">\n",
       "      <th></th>\n",
       "      <th>Unnamed: 0</th>\n",
       "      <th>index</th>\n",
       "      <th>id_x</th>\n",
       "      <th>region_id</th>\n",
       "      <th>area_id</th>\n",
       "      <th>city_id</th>\n",
       "      <th>street_id</th>\n",
       "      <th>shortname_region</th>\n",
       "      <th>formalname_region</th>\n",
       "      <th>shortname_area</th>\n",
       "      <th>...</th>\n",
       "      <th>sewerage_type</th>\n",
       "      <th>sewerage_cesspools_volume</th>\n",
       "      <th>gas_type</th>\n",
       "      <th>ventilation_type</th>\n",
       "      <th>firefighting_type</th>\n",
       "      <th>drainage_type</th>\n",
       "      <th>id_y</th>\n",
       "      <th>lon_ya</th>\n",
       "      <th>lat_ya</th>\n",
       "      <th>addr_ya</th>\n",
       "    </tr>\n",
       "  </thead>\n",
       "  <tbody>\n",
       "    <tr>\n",
       "      <th>51</th>\n",
       "      <td>51</td>\n",
       "      <td>4913</td>\n",
       "      <td>9427721</td>\n",
       "      <td>db9c4f8b-b706-40e2-b2b4-d31b98dcd3d1</td>\n",
       "      <td>NaN</td>\n",
       "      <td>38f208d6-6f29-4d30-b826-b42e8beecc67</td>\n",
       "      <td>228a666e-ccd8-42bd-a3b3-acae2e0d9611</td>\n",
       "      <td>край</td>\n",
       "      <td>Красноярский</td>\n",
       "      <td>NaN</td>\n",
       "      <td>...</td>\n",
       "      <td>Не заполнено</td>\n",
       "      <td>NaN</td>\n",
       "      <td>Не заполнено</td>\n",
       "      <td>Не заполнено</td>\n",
       "      <td>Не заполнено</td>\n",
       "      <td>Не заполнено</td>\n",
       "      <td>NaN</td>\n",
       "      <td>NaN</td>\n",
       "      <td>NaN</td>\n",
       "      <td>NaN</td>\n",
       "    </tr>\n",
       "  </tbody>\n",
       "</table>\n",
       "<p>1 rows × 66 columns</p>\n",
       "</div>"
      ],
      "text/plain": [
       "    Unnamed: 0  index     id_x                             region_id  area_id  \\\n",
       "51          51   4913  9427721  db9c4f8b-b706-40e2-b2b4-d31b98dcd3d1      NaN   \n",
       "\n",
       "                                 city_id  \\\n",
       "51  38f208d6-6f29-4d30-b826-b42e8beecc67   \n",
       "\n",
       "                               street_id shortname_region formalname_region  \\\n",
       "51  228a666e-ccd8-42bd-a3b3-acae2e0d9611             край      Красноярский   \n",
       "\n",
       "    shortname_area  ...  sewerage_type sewerage_cesspools_volume  \\\n",
       "51             NaN  ...   Не заполнено                       NaN   \n",
       "\n",
       "        gas_type ventilation_type firefighting_type drainage_type  id_y  \\\n",
       "51  Не заполнено     Не заполнено      Не заполнено  Не заполнено   NaN   \n",
       "\n",
       "   lon_ya  lat_ya addr_ya  \n",
       "51    NaN     NaN     NaN  \n",
       "\n",
       "[1 rows x 66 columns]"
      ]
     },
     "execution_count": 28,
     "metadata": {},
     "output_type": "execute_result"
    }
   ],
   "source": [
    "merged_building_gkh[merged_building_gkh['addr_ya'].isnull()]\n"
   ]
  },
  {
   "cell_type": "code",
   "execution_count": 29,
   "metadata": {},
   "outputs": [
    {
     "data": {
      "text/html": [
       "<div>\n",
       "<style scoped>\n",
       "    .dataframe tbody tr th:only-of-type {\n",
       "        vertical-align: middle;\n",
       "    }\n",
       "\n",
       "    .dataframe tbody tr th {\n",
       "        vertical-align: top;\n",
       "    }\n",
       "\n",
       "    .dataframe thead th {\n",
       "        text-align: right;\n",
       "    }\n",
       "</style>\n",
       "<table border=\"1\" class=\"dataframe\">\n",
       "  <thead>\n",
       "    <tr style=\"text-align: right;\">\n",
       "      <th></th>\n",
       "      <th>Unnamed: 0</th>\n",
       "      <th>index</th>\n",
       "      <th>id_x</th>\n",
       "      <th>region_id</th>\n",
       "      <th>area_id</th>\n",
       "      <th>city_id</th>\n",
       "      <th>street_id</th>\n",
       "      <th>shortname_region</th>\n",
       "      <th>formalname_region</th>\n",
       "      <th>shortname_area</th>\n",
       "      <th>...</th>\n",
       "      <th>sewerage_type</th>\n",
       "      <th>sewerage_cesspools_volume</th>\n",
       "      <th>gas_type</th>\n",
       "      <th>ventilation_type</th>\n",
       "      <th>firefighting_type</th>\n",
       "      <th>drainage_type</th>\n",
       "      <th>id_y</th>\n",
       "      <th>lon_ya</th>\n",
       "      <th>lat_ya</th>\n",
       "      <th>addr_ya</th>\n",
       "    </tr>\n",
       "  </thead>\n",
       "  <tbody>\n",
       "  </tbody>\n",
       "</table>\n",
       "<p>0 rows × 66 columns</p>\n",
       "</div>"
      ],
      "text/plain": [
       "Empty DataFrame\n",
       "Columns: [Unnamed: 0, index, id_x, region_id, area_id, city_id, street_id, shortname_region, formalname_region, shortname_area, formalname_area, shortname_city, formalname_city, shortname_street, formalname_street, house_number, building, block, letter, address, houseguid, management_organization_id, built_year, exploitation_start_year, project_type, house_type, is_alarm, method_of_forming_overhaul_fund, floor_count_max, floor_count_min, entrance_count, elevators_count, energy_efficiency, quarters_count, living_quarters_count, unliving_quarters_count, area_total, area_residential, area_non_residential, area_common_property, area_land, parking_square, playground, sportsground, other_beautification, foundation_type, floor_type, wall_material, basement_area, chute_type, chute_count, electrical_type, electrical_entries_count, heating_type, hot_water_type, cold_water_type, sewerage_type, sewerage_cesspools_volume, gas_type, ventilation_type, firefighting_type, drainage_type, id_y, lon_ya, lat_ya, addr_ya]\n",
       "Index: []\n",
       "\n",
       "[0 rows x 66 columns]"
      ]
     },
     "execution_count": 29,
     "metadata": {},
     "output_type": "execute_result"
    }
   ],
   "source": [
    "merged_building_gkh[merged_building_gkh['addr_ya'] == u'Ачинск, Красноярский край, Россия']"
   ]
  },
  {
   "cell_type": "code",
   "execution_count": null,
   "metadata": {},
   "outputs": [],
   "source": []
  }
 ],
 "metadata": {
  "kernelspec": {
   "display_name": "Python 3.8.13 ('gis')",
   "language": "python",
   "name": "python3"
  },
  "language_info": {
   "codemirror_mode": {
    "name": "ipython",
    "version": 3
   },
   "file_extension": ".py",
   "mimetype": "text/x-python",
   "name": "python",
   "nbconvert_exporter": "python",
   "pygments_lexer": "ipython3",
   "version": "3.8.13"
  },
  "orig_nbformat": 4,
  "vscode": {
   "interpreter": {
    "hash": "a8a1c7265d11ab4980762e7f6128c05f44ddfd74c678b352246f3ee07ae421b7"
   }
  }
 },
 "nbformat": 4,
 "nbformat_minor": 2
}
