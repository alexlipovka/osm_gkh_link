{
 "cells": [
  {
   "cell_type": "markdown",
   "metadata": {},
   "source": [
    "# Загружаем таблицу с проекта РеформаЖКХ"
   ]
  },
  {
   "cell_type": "code",
   "execution_count": 8,
   "metadata": {},
   "outputs": [],
   "source": [
    "import pandas as pd"
   ]
  },
  {
   "cell_type": "code",
   "execution_count": 13,
   "metadata": {},
   "outputs": [],
   "source": [
    "url = {\n",
    "        'krasnoyarsk_building' : 'https://www.reformagkh.ru/opendata/export/155',\n",
    "        'krasnoyarsk_uo' : 'https://www.reformagkh.ru/opendata/export/70'\n",
    "        }\n",
    "storage_options = {'User-Agent': 'Mozilla/5.0'}"
   ]
  },
  {
   "cell_type": "code",
   "execution_count": 21,
   "metadata": {},
   "outputs": [],
   "source": [
    "\n",
    "building_gkh = pd.read_csv(url['krasnoyarsk_building'], storage_options=storage_options, encoding='utf-8', sep=';', compression='zip')\n",
    "uo_gkh = pd.read_csv(url['krasnoyarsk_uo'], storage_options=storage_options, encoding='utf-8', sep=';', compression='zip')"
   ]
  },
  {
   "cell_type": "markdown",
   "metadata": {},
   "source": [
    "## Выделяем таблицы для отдельных городов"
   ]
  },
  {
   "cell_type": "code",
   "execution_count": 30,
   "metadata": {},
   "outputs": [],
   "source": [
    "kras_building_gkh = building_gkh[building_gkh.formalname_city == 'Красноярск']\n",
    "achinsk_building_gkh = building_gkh[building_gkh.formalname_city == 'Ачинск']\n",
    "kansk_building_gkh = building_gkh[building_gkh.formalname_city == 'Канск']\n",
    "zelenogorsk_building_gkh = building_gkh[building_gkh.formalname_city == 'Зеленогорск']\n",
    "cities = {\n",
    "    'Krasnoyarsk' : kras_building_gkh,\n",
    "    'Achinsk' : achinsk_building_gkh,\n",
    "    'Kansk' : kansk_building_gkh,\n",
    "    'Zelenogorsk' : zelenogorsk_building_gkh\n",
    "}"
   ]
  },
  {
   "cell_type": "code",
   "execution_count": 31,
   "metadata": {},
   "outputs": [],
   "source": [
    "for city in cities:\n",
    "    cities[city].to_csv('../data/gkh_base_' + city + '.csv')\n",
    "    dup = pd.DataFrame(cities[city].duplicated(keep=False, subset=['houseguid']), columns=['dup'])\n",
    "    dup.reset_index(inplace=True)\n",
    "    cities[city].reset_index(inplace=True)\n",
    "    dup_city_dup = cities[city].merge(dup, how='left', left_on='index', right_on='index')\n",
    "    dup_city_dup[dup_city_dup.dup == True].sort_values(by=['houseguid','id'], ascending=[True, True]).to_csv('../data/gkh_duplicates_' + city + '.csv')"
   ]
  },
  {
   "cell_type": "markdown",
   "metadata": {},
   "source": [
    "## Удаляем дубликаты по маске\n",
    "\n",
    "Предварительно надо вручную открыть файл duplicates, добавить столбец `delete` и вписать значения `True` либо `False` - удалить, либо оставить запись."
   ]
  },
  {
   "cell_type": "code",
   "execution_count": 39,
   "metadata": {},
   "outputs": [],
   "source": [
    "duplicates_achinsk = pd.read_csv('../data/gkh_duplicates_Achinsk_delete_mask.csv', encoding='utf-8', sep=',')\n",
    "\n",
    "gkh_clear_Achinsk = achinsk_building_gkh.merge(duplicates_achinsk[['id','delete']], how='left', left_on='id', right_on='id')\n",
    "gkh_clear_Achinsk.fillna(value={'delete':False}, inplace=True)\n",
    "gkh_clear_Achinsk = gkh_clear_Achinsk[gkh_clear_Achinsk.delete == False]\n",
    "gkh_clear_Achinsk.drop(columns='delete', inplace=True)\n",
    "gkh_clear_Achinsk.to_csv('../data/gkh_clear_Achinsk.csv')"
   ]
  },
  {
   "cell_type": "code",
   "execution_count": 40,
   "metadata": {},
   "outputs": [],
   "source": [
    "duplicates_kansk = pd.read_csv('../data/gkh_duplicates_Achinsk_delete_mask.csv', encoding='utf-8', sep=',')\n",
    "\n",
    "gkh_clear_Kansk = kansk_building_gkh.merge(duplicates_kansk[['id','delete']], how='left', left_on='id', right_on='id')\n",
    "gkh_clear_Kansk.fillna(value={'delete':False}, inplace=True)\n",
    "gkh_clear_Kansk = gkh_clear_Kansk[gkh_clear_Kansk.delete == False]\n",
    "gkh_clear_Kansk.drop(columns='delete', inplace=True)\n",
    "gkh_clear_Kansk.to_csv('../data/gkh_clear_Kansk.csv')"
   ]
  },
  {
   "cell_type": "code",
   "execution_count": 41,
   "metadata": {},
   "outputs": [],
   "source": [
    "duplicates_zelenogorsk = pd.read_csv('../data/gkh_duplicates_Zelenogorsk_delete_mask.csv', encoding='utf-8', sep=',')\n",
    "\n",
    "gkh_clear_Zelenogorsk =zelenogorsk_building_gkh.merge(duplicates_zelenogorsk[['id','delete']], how='left', left_on='id', right_on='id')\n",
    "gkh_clear_Zelenogorsk.fillna(value={'delete':False}, inplace=True)\n",
    "gkh_clear_Zelenogorsk = gkh_clear_Zelenogorsk[gkh_clear_Zelenogorsk.delete == False]\n",
    "gkh_clear_Zelenogorsk.drop(columns='delete', inplace=True)\n",
    "gkh_clear_Zelenogorsk.to_csv('../data/gkh_clear_Zelenogorsk.csv')"
   ]
  },
  {
   "cell_type": "code",
   "execution_count": null,
   "metadata": {},
   "outputs": [],
   "source": []
  }
 ],
 "metadata": {
  "kernelspec": {
   "display_name": "Python 3.8.13 ('gis')",
   "language": "python",
   "name": "python3"
  },
  "language_info": {
   "codemirror_mode": {
    "name": "ipython",
    "version": 3
   },
   "file_extension": ".py",
   "mimetype": "text/x-python",
   "name": "python",
   "nbconvert_exporter": "python",
   "pygments_lexer": "ipython3",
   "version": "3.8.13"
  },
  "orig_nbformat": 4,
  "vscode": {
   "interpreter": {
    "hash": "a8a1c7265d11ab4980762e7f6128c05f44ddfd74c678b352246f3ee07ae421b7"
   }
  }
 },
 "nbformat": 4,
 "nbformat_minor": 2
}
